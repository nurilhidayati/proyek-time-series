{
  "cells": [
    {
      "cell_type": "markdown",
      "metadata": {
        "id": "yb0Ka1mfDogL"
      },
      "source": [
        "Nama: Nuril Hidayati\n",
        "\n",
        "Nomor Registrasi: 1494037162100-621\n",
        "\n",
        "Pelatihan FGA DTS - Alur Machine Learning Developer\n",
        "\n",
        "Sidoarjo, Jawa Timur\n",
        "\n",
        "Dataset : https://www.kaggle.com/muthuj7/weather-dataset\n"
      ]
    },
    {
      "cell_type": "code",
      "execution_count": 7,
      "metadata": {
        "colab": {
          "base_uri": "https://localhost:8080/",
          "height": 565
        },
        "id": "bC4lO2_lMkwo",
        "outputId": "1fe8c54e-1891-44c4-aa7b-cec31be47e4a"
      },
      "outputs": [
        {
          "output_type": "execute_result",
          "data": {
            "text/plain": [
              "              Formatted Date        Summary Precip Type  Temperature (C)  \\\n",
              "0  2006-04-01 00:00:00+02:00  Partly Cloudy        rain         9.472222   \n",
              "1  2006-04-01 01:00:00+02:00  Partly Cloudy        rain         9.355556   \n",
              "2  2006-04-01 02:00:00+02:00  Mostly Cloudy        rain         9.377778   \n",
              "3  2006-04-01 03:00:00+02:00  Partly Cloudy        rain         8.288889   \n",
              "4  2006-04-01 04:00:00+02:00  Mostly Cloudy        rain         8.755556   \n",
              "\n",
              "   Apparent Temperature (C)  Humidity  Wind Speed (km/h)  \\\n",
              "0                  7.388889      0.89            14.1197   \n",
              "1                  7.227778      0.86            14.2646   \n",
              "2                  9.377778      0.89             3.9284   \n",
              "3                  5.944444      0.83            14.1036   \n",
              "4                  6.977778      0.83            11.0446   \n",
              "\n",
              "   Wind Bearing (degrees)  Visibility (km)  Loud Cover  Pressure (millibars)  \\\n",
              "0                   251.0          15.8263         0.0               1015.13   \n",
              "1                   259.0          15.8263         0.0               1015.63   \n",
              "2                   204.0          14.9569         0.0               1015.94   \n",
              "3                   269.0          15.8263         0.0               1016.41   \n",
              "4                   259.0          15.8263         0.0               1016.51   \n",
              "\n",
              "                       Daily Summary  \n",
              "0  Partly cloudy throughout the day.  \n",
              "1  Partly cloudy throughout the day.  \n",
              "2  Partly cloudy throughout the day.  \n",
              "3  Partly cloudy throughout the day.  \n",
              "4  Partly cloudy throughout the day.  "
            ],
            "text/html": [
              "\n",
              "  <div id=\"df-03695ee2-5f9c-4f42-b78a-499ccfa4c739\">\n",
              "    <div class=\"colab-df-container\">\n",
              "      <div>\n",
              "<style scoped>\n",
              "    .dataframe tbody tr th:only-of-type {\n",
              "        vertical-align: middle;\n",
              "    }\n",
              "\n",
              "    .dataframe tbody tr th {\n",
              "        vertical-align: top;\n",
              "    }\n",
              "\n",
              "    .dataframe thead th {\n",
              "        text-align: right;\n",
              "    }\n",
              "</style>\n",
              "<table border=\"1\" class=\"dataframe\">\n",
              "  <thead>\n",
              "    <tr style=\"text-align: right;\">\n",
              "      <th></th>\n",
              "      <th>Formatted Date</th>\n",
              "      <th>Summary</th>\n",
              "      <th>Precip Type</th>\n",
              "      <th>Temperature (C)</th>\n",
              "      <th>Apparent Temperature (C)</th>\n",
              "      <th>Humidity</th>\n",
              "      <th>Wind Speed (km/h)</th>\n",
              "      <th>Wind Bearing (degrees)</th>\n",
              "      <th>Visibility (km)</th>\n",
              "      <th>Loud Cover</th>\n",
              "      <th>Pressure (millibars)</th>\n",
              "      <th>Daily Summary</th>\n",
              "    </tr>\n",
              "  </thead>\n",
              "  <tbody>\n",
              "    <tr>\n",
              "      <th>0</th>\n",
              "      <td>2006-04-01 00:00:00+02:00</td>\n",
              "      <td>Partly Cloudy</td>\n",
              "      <td>rain</td>\n",
              "      <td>9.472222</td>\n",
              "      <td>7.388889</td>\n",
              "      <td>0.89</td>\n",
              "      <td>14.1197</td>\n",
              "      <td>251.0</td>\n",
              "      <td>15.8263</td>\n",
              "      <td>0.0</td>\n",
              "      <td>1015.13</td>\n",
              "      <td>Partly cloudy throughout the day.</td>\n",
              "    </tr>\n",
              "    <tr>\n",
              "      <th>1</th>\n",
              "      <td>2006-04-01 01:00:00+02:00</td>\n",
              "      <td>Partly Cloudy</td>\n",
              "      <td>rain</td>\n",
              "      <td>9.355556</td>\n",
              "      <td>7.227778</td>\n",
              "      <td>0.86</td>\n",
              "      <td>14.2646</td>\n",
              "      <td>259.0</td>\n",
              "      <td>15.8263</td>\n",
              "      <td>0.0</td>\n",
              "      <td>1015.63</td>\n",
              "      <td>Partly cloudy throughout the day.</td>\n",
              "    </tr>\n",
              "    <tr>\n",
              "      <th>2</th>\n",
              "      <td>2006-04-01 02:00:00+02:00</td>\n",
              "      <td>Mostly Cloudy</td>\n",
              "      <td>rain</td>\n",
              "      <td>9.377778</td>\n",
              "      <td>9.377778</td>\n",
              "      <td>0.89</td>\n",
              "      <td>3.9284</td>\n",
              "      <td>204.0</td>\n",
              "      <td>14.9569</td>\n",
              "      <td>0.0</td>\n",
              "      <td>1015.94</td>\n",
              "      <td>Partly cloudy throughout the day.</td>\n",
              "    </tr>\n",
              "    <tr>\n",
              "      <th>3</th>\n",
              "      <td>2006-04-01 03:00:00+02:00</td>\n",
              "      <td>Partly Cloudy</td>\n",
              "      <td>rain</td>\n",
              "      <td>8.288889</td>\n",
              "      <td>5.944444</td>\n",
              "      <td>0.83</td>\n",
              "      <td>14.1036</td>\n",
              "      <td>269.0</td>\n",
              "      <td>15.8263</td>\n",
              "      <td>0.0</td>\n",
              "      <td>1016.41</td>\n",
              "      <td>Partly cloudy throughout the day.</td>\n",
              "    </tr>\n",
              "    <tr>\n",
              "      <th>4</th>\n",
              "      <td>2006-04-01 04:00:00+02:00</td>\n",
              "      <td>Mostly Cloudy</td>\n",
              "      <td>rain</td>\n",
              "      <td>8.755556</td>\n",
              "      <td>6.977778</td>\n",
              "      <td>0.83</td>\n",
              "      <td>11.0446</td>\n",
              "      <td>259.0</td>\n",
              "      <td>15.8263</td>\n",
              "      <td>0.0</td>\n",
              "      <td>1016.51</td>\n",
              "      <td>Partly cloudy throughout the day.</td>\n",
              "    </tr>\n",
              "  </tbody>\n",
              "</table>\n",
              "</div>\n",
              "      <button class=\"colab-df-convert\" onclick=\"convertToInteractive('df-03695ee2-5f9c-4f42-b78a-499ccfa4c739')\"\n",
              "              title=\"Convert this dataframe to an interactive table.\"\n",
              "              style=\"display:none;\">\n",
              "        \n",
              "  <svg xmlns=\"http://www.w3.org/2000/svg\" height=\"24px\"viewBox=\"0 0 24 24\"\n",
              "       width=\"24px\">\n",
              "    <path d=\"M0 0h24v24H0V0z\" fill=\"none\"/>\n",
              "    <path d=\"M18.56 5.44l.94 2.06.94-2.06 2.06-.94-2.06-.94-.94-2.06-.94 2.06-2.06.94zm-11 1L8.5 8.5l.94-2.06 2.06-.94-2.06-.94L8.5 2.5l-.94 2.06-2.06.94zm10 10l.94 2.06.94-2.06 2.06-.94-2.06-.94-.94-2.06-.94 2.06-2.06.94z\"/><path d=\"M17.41 7.96l-1.37-1.37c-.4-.4-.92-.59-1.43-.59-.52 0-1.04.2-1.43.59L10.3 9.45l-7.72 7.72c-.78.78-.78 2.05 0 2.83L4 21.41c.39.39.9.59 1.41.59.51 0 1.02-.2 1.41-.59l7.78-7.78 2.81-2.81c.8-.78.8-2.07 0-2.86zM5.41 20L4 18.59l7.72-7.72 1.47 1.35L5.41 20z\"/>\n",
              "  </svg>\n",
              "      </button>\n",
              "      \n",
              "  <style>\n",
              "    .colab-df-container {\n",
              "      display:flex;\n",
              "      flex-wrap:wrap;\n",
              "      gap: 12px;\n",
              "    }\n",
              "\n",
              "    .colab-df-convert {\n",
              "      background-color: #E8F0FE;\n",
              "      border: none;\n",
              "      border-radius: 50%;\n",
              "      cursor: pointer;\n",
              "      display: none;\n",
              "      fill: #1967D2;\n",
              "      height: 32px;\n",
              "      padding: 0 0 0 0;\n",
              "      width: 32px;\n",
              "    }\n",
              "\n",
              "    .colab-df-convert:hover {\n",
              "      background-color: #E2EBFA;\n",
              "      box-shadow: 0px 1px 2px rgba(60, 64, 67, 0.3), 0px 1px 3px 1px rgba(60, 64, 67, 0.15);\n",
              "      fill: #174EA6;\n",
              "    }\n",
              "\n",
              "    [theme=dark] .colab-df-convert {\n",
              "      background-color: #3B4455;\n",
              "      fill: #D2E3FC;\n",
              "    }\n",
              "\n",
              "    [theme=dark] .colab-df-convert:hover {\n",
              "      background-color: #434B5C;\n",
              "      box-shadow: 0px 1px 3px 1px rgba(0, 0, 0, 0.15);\n",
              "      filter: drop-shadow(0px 1px 2px rgba(0, 0, 0, 0.3));\n",
              "      fill: #FFFFFF;\n",
              "    }\n",
              "  </style>\n",
              "\n",
              "      <script>\n",
              "        const buttonEl =\n",
              "          document.querySelector('#df-03695ee2-5f9c-4f42-b78a-499ccfa4c739 button.colab-df-convert');\n",
              "        buttonEl.style.display =\n",
              "          google.colab.kernel.accessAllowed ? 'block' : 'none';\n",
              "\n",
              "        async function convertToInteractive(key) {\n",
              "          const element = document.querySelector('#df-03695ee2-5f9c-4f42-b78a-499ccfa4c739');\n",
              "          const dataTable =\n",
              "            await google.colab.kernel.invokeFunction('convertToInteractive',\n",
              "                                                     [key], {});\n",
              "          if (!dataTable) return;\n",
              "\n",
              "          const docLinkHtml = 'Like what you see? Visit the ' +\n",
              "            '<a target=\"_blank\" href=https://colab.research.google.com/notebooks/data_table.ipynb>data table notebook</a>'\n",
              "            + ' to learn more about interactive tables.';\n",
              "          element.innerHTML = '';\n",
              "          dataTable['output_type'] = 'display_data';\n",
              "          await google.colab.output.renderOutput(dataTable, element);\n",
              "          const docLink = document.createElement('div');\n",
              "          docLink.innerHTML = docLinkHtml;\n",
              "          element.appendChild(docLink);\n",
              "        }\n",
              "      </script>\n",
              "    </div>\n",
              "  </div>\n",
              "  "
            ]
          },
          "metadata": {},
          "execution_count": 7
        }
      ],
      "source": [
        "import pandas as pd\n",
        "import numpy as np\n",
        "from keras.layers import Dense, LSTM, Bidirectional, Dropout, Lambda\n",
        "import matplotlib.pyplot as plt\n",
        "import tensorflow as tf\n",
        "from sklearn.preprocessing import MinMaxScaler\n",
        "\n",
        "df = pd.read_csv('weatherHistory.csv', parse_dates=['Formatted Date'])\n",
        "df.head()"
      ]
    },
    {
      "cell_type": "code",
      "execution_count": 8,
      "metadata": {
        "id": "CJ55FksnIjdN"
      },
      "outputs": [],
      "source": [
        "df['Formatted Date'] = pd.to_datetime(df['Formatted Date'], utc=True)"
      ]
    },
    {
      "cell_type": "code",
      "execution_count": 9,
      "metadata": {
        "colab": {
          "base_uri": "https://localhost:8080/"
        },
        "id": "ckcienp4Gcyc",
        "outputId": "b762dffa-d199-4907-89bd-6f71cb29685b"
      },
      "outputs": [
        {
          "output_type": "stream",
          "name": "stdout",
          "text": [
            "<class 'pandas.core.frame.DataFrame'>\n",
            "RangeIndex: 96453 entries, 0 to 96452\n",
            "Data columns (total 12 columns):\n",
            " #   Column                    Non-Null Count  Dtype              \n",
            "---  ------                    --------------  -----              \n",
            " 0   Formatted Date            96453 non-null  datetime64[ns, UTC]\n",
            " 1   Summary                   96453 non-null  object             \n",
            " 2   Precip Type               95936 non-null  object             \n",
            " 3   Temperature (C)           96453 non-null  float64            \n",
            " 4   Apparent Temperature (C)  96453 non-null  float64            \n",
            " 5   Humidity                  96453 non-null  float64            \n",
            " 6   Wind Speed (km/h)         96453 non-null  float64            \n",
            " 7   Wind Bearing (degrees)    96453 non-null  float64            \n",
            " 8   Visibility (km)           96453 non-null  float64            \n",
            " 9   Loud Cover                96453 non-null  float64            \n",
            " 10  Pressure (millibars)      96453 non-null  float64            \n",
            " 11  Daily Summary             96453 non-null  object             \n",
            "dtypes: datetime64[ns, UTC](1), float64(8), object(3)\n",
            "memory usage: 8.8+ MB\n"
          ]
        }
      ],
      "source": [
        "df.info()"
      ]
    },
    {
      "cell_type": "markdown",
      "metadata": {
        "id": "i_m3snmluo57"
      },
      "source": [
        "**Data** **Cleaning**"
      ]
    },
    {
      "cell_type": "code",
      "execution_count": 10,
      "metadata": {
        "colab": {
          "base_uri": "https://localhost:8080/"
        },
        "id": "B062Sx6c24eb",
        "outputId": "77b17721-a8bc-4c1a-85dc-100118e315a1"
      },
      "outputs": [
        {
          "output_type": "execute_result",
          "data": {
            "text/plain": [
              "Formatted Date                0\n",
              "Summary                       0\n",
              "Precip Type                 517\n",
              "Temperature (C)               0\n",
              "Apparent Temperature (C)      0\n",
              "Humidity                      0\n",
              "Wind Speed (km/h)             0\n",
              "Wind Bearing (degrees)        0\n",
              "Visibility (km)               0\n",
              "Loud Cover                    0\n",
              "Pressure (millibars)          0\n",
              "Daily Summary                 0\n",
              "dtype: int64"
            ]
          },
          "metadata": {},
          "execution_count": 10
        }
      ],
      "source": [
        "df.isna().sum()"
      ]
    },
    {
      "cell_type": "code",
      "execution_count": 11,
      "metadata": {
        "colab": {
          "base_uri": "https://localhost:8080/"
        },
        "id": "DTTfZlEzcCfc",
        "outputId": "dddfe6d5-241f-4f68-8cb0-2dcffd07bfca"
      },
      "outputs": [
        {
          "output_type": "execute_result",
          "data": {
            "text/plain": [
              "(96453, 12)"
            ]
          },
          "metadata": {},
          "execution_count": 11
        }
      ],
      "source": [
        "df.shape"
      ]
    },
    {
      "cell_type": "code",
      "execution_count": 12,
      "metadata": {
        "colab": {
          "base_uri": "https://localhost:8080/"
        },
        "id": "SbnpW25BBBJm",
        "outputId": "4eab77ea-b6a9-413b-a0d3-2b1e44b50ee7"
      },
      "outputs": [
        {
          "output_type": "execute_result",
          "data": {
            "text/plain": [
              "6.385260000000001"
            ]
          },
          "metadata": {},
          "execution_count": 12
        }
      ],
      "source": [
        "batas_mae = (df['Wind Speed (km/h)'].max() - df['Wind Speed (km/h)'].min()) * 0.1\n",
        "batas_mae"
      ]
    },
    {
      "cell_type": "markdown",
      "metadata": {
        "id": "e0_eu_K1U6-p"
      },
      "source": [
        "**Mengambil 20.000 data dan membaginya untuk training dan validation**"
      ]
    },
    {
      "cell_type": "code",
      "execution_count": 13,
      "metadata": {
        "id": "PJdhM2tsjNQb"
      },
      "outputs": [],
      "source": [
        "df_train = df[1:16001]\n",
        "df_val = df[16002:20002]"
      ]
    },
    {
      "cell_type": "code",
      "execution_count": 14,
      "metadata": {
        "colab": {
          "base_uri": "https://localhost:8080/",
          "height": 336
        },
        "id": "PKKmxxMS_M0A",
        "outputId": "8aab5262-2b28-476b-e803-afac2074b341"
      },
      "outputs": [
        {
          "output_type": "display_data",
          "data": {
            "text/plain": [
              "<Figure size 1080x360 with 1 Axes>"
            ],
            "image/png": "[encoded data removed]"
          },
          "metadata": {
            "needs_background": "light"
          }
        }
      ],
      "source": [
        "plt.figure(figsize=(15,5))\n",
        "plt.plot(df_train.index, df_train[['Wind Speed (km/h)']])\n",
        "plt.title('Wind Speed Average',\n",
        "          fontsize=20);\n",
        "plt.plot(df_val.index, df_val[['Wind Speed (km/h)']])\n",
        "plt.title('Wind Speed Average',\n",
        "          fontsize=20);"
      ]
    },
    {
      "cell_type": "code",
      "execution_count": 15,
      "metadata": {
        "colab": {
          "base_uri": "https://localhost:8080/"
        },
        "id": "nbJBLosQ9LKz",
        "outputId": "202a0479-2769-46e7-b9c9-3ee5cecddda8"
      },
      "outputs": [
        {
          "output_type": "stream",
          "name": "stderr",
          "text": [
            "/usr/local/lib/python3.8/dist-packages/pandas/core/frame.py:3678: SettingWithCopyWarning: \n",
            "A value is trying to be set on a copy of a slice from a DataFrame.\n",
            "Try using .loc[row_indexer,col_indexer] = value instead\n",
            "\n",
            "See the caveats in the documentation: https://pandas.pydata.org/pandas-docs/stable/user_guide/indexing.html#returning-a-view-versus-a-copy\n",
            "  self[col] = igetitem(value, i)\n",
            "/usr/local/lib/python3.8/dist-packages/pandas/core/frame.py:3678: SettingWithCopyWarning: \n",
            "A value is trying to be set on a copy of a slice from a DataFrame.\n",
            "Try using .loc[row_indexer,col_indexer] = value instead\n",
            "\n",
            "See the caveats in the documentation: https://pandas.pydata.org/pandas-docs/stable/user_guide/indexing.html#returning-a-view-versus-a-copy\n",
            "  self[col] = igetitem(value, i)\n"
          ]
        }
      ],
      "source": [
        "minmaxscaler = MinMaxScaler(feature_range = (0,1))\n",
        "scale_train = minmaxscaler.fit_transform(df_train[['Wind Speed (km/h)']])\n",
        "df_train[['Wind Speed (km/h)']] = scale_train\n",
        "\n",
        "scale_val = minmaxscaler.fit_transform(df_val[['Wind Speed (km/h)']])\n",
        "df_val[['Wind Speed (km/h)']] = scale_val"
      ]
    },
    {
      "cell_type": "code",
      "execution_count": 16,
      "metadata": {
        "colab": {
          "base_uri": "https://localhost:8080/"
        },
        "id": "wlJGtgy2kTjB",
        "outputId": "54a73fbc-a7d6-4041-f9c8-27134f63bdb1"
      },
      "outputs": [
        {
          "output_type": "execute_result",
          "data": {
            "text/plain": [
              "(16000,)"
            ]
          },
          "metadata": {},
          "execution_count": 16
        }
      ],
      "source": [
        "date_train = df_train['Formatted Date']\n",
        "wind_train  = df_train['Wind Speed (km/h)'].values\n",
        "\n",
        "date_val = df_val['Formatted Date']\n",
        "wind_val = df_val['Wind Speed (km/h)'].values\n",
        "\n",
        "date_train.shape"
      ]
    },
    {
      "cell_type": "code",
      "execution_count": 17,
      "metadata": {
        "id": "VXE-vmSD2Ekr"
      },
      "outputs": [],
      "source": [
        "def windowed_dataset(series, window_size, batch_size, shuffle_buffer):\n",
        "    series = tf.expand_dims(series, axis=-1)\n",
        "    ds = tf.data.Dataset.from_tensor_slices(series)\n",
        "    ds = ds.window(window_size + 1, shift=1, drop_remainder=True)\n",
        "    ds = ds.flat_map(lambda w: w.batch(window_size + 1))\n",
        "    ds = ds.shuffle(shuffle_buffer)\n",
        "    ds = ds.map(lambda w: (w[:-1], w[-1:]))\n",
        "    return ds.batch(batch_size).prefetch(1)\n"
      ]
    },
    {
      "cell_type": "markdown",
      "metadata": {
        "id": "RN3AW245Wnhg"
      },
      "source": [
        "**Modelling**"
      ]
    },
    {
      "cell_type": "code",
      "execution_count": 18,
      "metadata": {
        "id": "EFYe0hswWfj4"
      },
      "outputs": [],
      "source": [
        "train_set = windowed_dataset(wind_train, window_size=60, batch_size=100, shuffle_buffer=1000)\n",
        "test_set  = windowed_dataset(wind_val, window_size=60, batch_size=100, shuffle_buffer=1000)\n",
        "model = tf.keras.models.Sequential([\n",
        "                                    tf.keras.layers.LSTM(64, return_sequences=True),\n",
        "                                    tf.keras.layers.LSTM(64),\n",
        "                                    tf.keras.layers.Dense(30, activation='relu'),\n",
        "                                    tf.keras.layers.Dropout(0.2),\n",
        "                                    tf.keras.layers.Dense(30, activation='relu'),\n",
        "                                    tf.keras.layers.Dropout(0.5),\n",
        "                                    tf.keras.layers.Dense(1)\n",
        "])"
      ]
    },
    {
      "cell_type": "markdown",
      "metadata": {
        "id": "vcBHzhAhY6GQ"
      },
      "source": [
        "**Membuat Class Callback**"
      ]
    },
    {
      "cell_type": "code",
      "execution_count": 19,
      "metadata": {
        "id": "qdbRq4_gY04U"
      },
      "outputs": [],
      "source": [
        "from tensorflow.keras.callbacks import Callback\n",
        "class myCallback(Callback):\n",
        "    def on_epoch_end(self, epoch, logs={}):\n",
        "        if(logs.get('mae')<0.09 and logs.get('val_mae')<0.09):\n",
        "            print(\"MAE has reached below 10%\")\n",
        "            self.model.stop_training = True\n",
        "callbacks = myCallback()"
      ]
    },
    {
      "cell_type": "markdown",
      "metadata": {
        "id": "n9xE3mi0ZNSe"
      },
      "source": [
        "**Melatih Model**"
      ]
    },
    {
      "cell_type": "code",
      "execution_count": 20,
      "metadata": {
        "colab": {
          "base_uri": "https://localhost:8080/"
        },
        "id": "5XYQTQ7RvMqp",
        "outputId": "02c1e625-1ffb-4fc1-a469-33a255e6744c"
      },
      "outputs": [
        {
          "output_type": "stream",
          "name": "stdout",
          "text": [
            "Epoch 1/200\n",
            "160/160 [==============================] - 13s 29ms/step - loss: 0.0152 - mae: 0.1400 - val_loss: 0.0302 - val_mae: 0.1961\n",
            "Epoch 2/200\n",
            "160/160 [==============================] - 4s 23ms/step - loss: 0.0106 - mae: 0.1083 - val_loss: 0.0243 - val_mae: 0.1684\n",
            "Epoch 3/200\n",
            "160/160 [==============================] - 4s 24ms/step - loss: 0.0083 - mae: 0.0934 - val_loss: 0.0208 - val_mae: 0.1530\n",
            "Epoch 4/200\n",
            "160/160 [==============================] - 4s 24ms/step - loss: 0.0072 - mae: 0.0873 - val_loss: 0.0187 - val_mae: 0.1442\n",
            "Epoch 5/200\n",
            "160/160 [==============================] - 4s 24ms/step - loss: 0.0067 - mae: 0.0846 - val_loss: 0.0173 - val_mae: 0.1385\n",
            "Epoch 6/200\n",
            "160/160 [==============================] - 4s 24ms/step - loss: 0.0064 - mae: 0.0833 - val_loss: 0.0165 - val_mae: 0.1350\n",
            "Epoch 7/200\n",
            "160/160 [==============================] - 4s 24ms/step - loss: 0.0063 - mae: 0.0834 - val_loss: 0.0161 - val_mae: 0.1330\n",
            "Epoch 8/200\n",
            "160/160 [==============================] - 4s 24ms/step - loss: 0.0062 - mae: 0.0831 - val_loss: 0.0157 - val_mae: 0.1317\n",
            "Epoch 9/200\n",
            "160/160 [==============================] - 4s 23ms/step - loss: 0.0062 - mae: 0.0830 - val_loss: 0.0155 - val_mae: 0.1308\n",
            "Epoch 10/200\n",
            "160/160 [==============================] - 4s 24ms/step - loss: 0.0062 - mae: 0.0832 - val_loss: 0.0153 - val_mae: 0.1302\n",
            "Epoch 11/200\n",
            "160/160 [==============================] - 4s 24ms/step - loss: 0.0061 - mae: 0.0828 - val_loss: 0.0152 - val_mae: 0.1297\n",
            "Epoch 12/200\n",
            "160/160 [==============================] - 4s 25ms/step - loss: 0.0061 - mae: 0.0828 - val_loss: 0.0151 - val_mae: 0.1293\n",
            "Epoch 13/200\n",
            "160/160 [==============================] - 6s 33ms/step - loss: 0.0060 - mae: 0.0821 - val_loss: 0.0150 - val_mae: 0.1288\n",
            "Epoch 14/200\n",
            "160/160 [==============================] - 4s 23ms/step - loss: 0.0059 - mae: 0.0820 - val_loss: 0.0149 - val_mae: 0.1284\n",
            "Epoch 15/200\n",
            "160/160 [==============================] - 4s 23ms/step - loss: 0.0059 - mae: 0.0816 - val_loss: 0.0148 - val_mae: 0.1281\n",
            "Epoch 16/200\n",
            "160/160 [==============================] - 4s 24ms/step - loss: 0.0058 - mae: 0.0814 - val_loss: 0.0148 - val_mae: 0.1278\n",
            "Epoch 17/200\n",
            "160/160 [==============================] - 4s 24ms/step - loss: 0.0058 - mae: 0.0814 - val_loss: 0.0147 - val_mae: 0.1275\n",
            "Epoch 18/200\n",
            "160/160 [==============================] - 4s 23ms/step - loss: 0.0058 - mae: 0.0812 - val_loss: 0.0146 - val_mae: 0.1273\n",
            "Epoch 19/200\n",
            "160/160 [==============================] - 4s 24ms/step - loss: 0.0058 - mae: 0.0808 - val_loss: 0.0146 - val_mae: 0.1270\n",
            "Epoch 20/200\n",
            "160/160 [==============================] - 4s 23ms/step - loss: 0.0057 - mae: 0.0807 - val_loss: 0.0145 - val_mae: 0.1268\n",
            "Epoch 21/200\n",
            "160/160 [==============================] - 4s 24ms/step - loss: 0.0057 - mae: 0.0809 - val_loss: 0.0145 - val_mae: 0.1266\n",
            "Epoch 22/200\n",
            "160/160 [==============================] - 4s 24ms/step - loss: 0.0057 - mae: 0.0805 - val_loss: 0.0144 - val_mae: 0.1264\n",
            "Epoch 23/200\n",
            "160/160 [==============================] - 4s 24ms/step - loss: 0.0057 - mae: 0.0807 - val_loss: 0.0144 - val_mae: 0.1263\n",
            "Epoch 24/200\n",
            "160/160 [==============================] - 4s 24ms/step - loss: 0.0057 - mae: 0.0802 - val_loss: 0.0144 - val_mae: 0.1261\n",
            "Epoch 25/200\n",
            "160/160 [==============================] - 4s 24ms/step - loss: 0.0057 - mae: 0.0802 - val_loss: 0.0143 - val_mae: 0.1259\n",
            "Epoch 26/200\n",
            "160/160 [==============================] - 4s 24ms/step - loss: 0.0056 - mae: 0.0802 - val_loss: 0.0143 - val_mae: 0.1258\n",
            "Epoch 27/200\n",
            "160/160 [==============================] - 4s 24ms/step - loss: 0.0056 - mae: 0.0799 - val_loss: 0.0143 - val_mae: 0.1256\n",
            "Epoch 28/200\n",
            "160/160 [==============================] - 4s 24ms/step - loss: 0.0056 - mae: 0.0795 - val_loss: 0.0142 - val_mae: 0.1254\n",
            "Epoch 29/200\n",
            "160/160 [==============================] - 4s 24ms/step - loss: 0.0056 - mae: 0.0799 - val_loss: 0.0142 - val_mae: 0.1252\n",
            "Epoch 30/200\n",
            "160/160 [==============================] - 4s 24ms/step - loss: 0.0055 - mae: 0.0793 - val_loss: 0.0141 - val_mae: 0.1251\n",
            "Epoch 31/200\n",
            "160/160 [==============================] - 4s 24ms/step - loss: 0.0055 - mae: 0.0791 - val_loss: 0.0141 - val_mae: 0.1248\n",
            "Epoch 32/200\n",
            "160/160 [==============================] - 4s 24ms/step - loss: 0.0055 - mae: 0.0793 - val_loss: 0.0141 - val_mae: 0.1247\n",
            "Epoch 33/200\n",
            "160/160 [==============================] - 4s 24ms/step - loss: 0.0055 - mae: 0.0793 - val_loss: 0.0140 - val_mae: 0.1246\n",
            "Epoch 34/200\n",
            "160/160 [==============================] - 4s 24ms/step - loss: 0.0055 - mae: 0.0793 - val_loss: 0.0140 - val_mae: 0.1244\n",
            "Epoch 35/200\n",
            "160/160 [==============================] - 4s 23ms/step - loss: 0.0055 - mae: 0.0793 - val_loss: 0.0140 - val_mae: 0.1243\n",
            "Epoch 36/200\n",
            "160/160 [==============================] - 4s 24ms/step - loss: 0.0055 - mae: 0.0791 - val_loss: 0.0139 - val_mae: 0.1241\n",
            "Epoch 37/200\n",
            "160/160 [==============================] - 4s 24ms/step - loss: 0.0055 - mae: 0.0788 - val_loss: 0.0139 - val_mae: 0.1240\n",
            "Epoch 38/200\n",
            "160/160 [==============================] - 4s 24ms/step - loss: 0.0055 - mae: 0.0790 - val_loss: 0.0139 - val_mae: 0.1238\n",
            "Epoch 39/200\n",
            "160/160 [==============================] - 4s 23ms/step - loss: 0.0055 - mae: 0.0789 - val_loss: 0.0138 - val_mae: 0.1238\n",
            "Epoch 40/200\n",
            "160/160 [==============================] - 4s 24ms/step - loss: 0.0054 - mae: 0.0788 - val_loss: 0.0138 - val_mae: 0.1236\n",
            "Epoch 41/200\n",
            "160/160 [==============================] - 4s 23ms/step - loss: 0.0054 - mae: 0.0785 - val_loss: 0.0138 - val_mae: 0.1234\n",
            "Epoch 42/200\n",
            "160/160 [==============================] - 4s 23ms/step - loss: 0.0055 - mae: 0.0790 - val_loss: 0.0138 - val_mae: 0.1234\n",
            "Epoch 43/200\n",
            "160/160 [==============================] - 4s 23ms/step - loss: 0.0054 - mae: 0.0789 - val_loss: 0.0138 - val_mae: 0.1234\n",
            "Epoch 44/200\n",
            "160/160 [==============================] - 4s 23ms/step - loss: 0.0054 - mae: 0.0786 - val_loss: 0.0137 - val_mae: 0.1232\n",
            "Epoch 45/200\n",
            "160/160 [==============================] - 4s 24ms/step - loss: 0.0054 - mae: 0.0783 - val_loss: 0.0137 - val_mae: 0.1231\n",
            "Epoch 46/200\n",
            "160/160 [==============================] - 4s 24ms/step - loss: 0.0054 - mae: 0.0781 - val_loss: 0.0137 - val_mae: 0.1230\n",
            "Epoch 47/200\n",
            "160/160 [==============================] - 4s 24ms/step - loss: 0.0054 - mae: 0.0784 - val_loss: 0.0136 - val_mae: 0.1229\n",
            "Epoch 48/200\n",
            "160/160 [==============================] - 4s 24ms/step - loss: 0.0054 - mae: 0.0784 - val_loss: 0.0136 - val_mae: 0.1228\n",
            "Epoch 49/200\n",
            "160/160 [==============================] - 4s 24ms/step - loss: 0.0054 - mae: 0.0783 - val_loss: 0.0136 - val_mae: 0.1227\n",
            "Epoch 50/200\n",
            "160/160 [==============================] - 4s 23ms/step - loss: 0.0054 - mae: 0.0783 - val_loss: 0.0136 - val_mae: 0.1226\n",
            "Epoch 51/200\n",
            "160/160 [==============================] - 4s 24ms/step - loss: 0.0053 - mae: 0.0781 - val_loss: 0.0136 - val_mae: 0.1225\n",
            "Epoch 52/200\n",
            "160/160 [==============================] - 4s 24ms/step - loss: 0.0053 - mae: 0.0782 - val_loss: 0.0135 - val_mae: 0.1224\n",
            "Epoch 53/200\n",
            "160/160 [==============================] - 4s 24ms/step - loss: 0.0054 - mae: 0.0783 - val_loss: 0.0135 - val_mae: 0.1224\n",
            "Epoch 54/200\n",
            "160/160 [==============================] - 4s 24ms/step - loss: 0.0053 - mae: 0.0779 - val_loss: 0.0135 - val_mae: 0.1222\n",
            "Epoch 55/200\n",
            "160/160 [==============================] - 4s 24ms/step - loss: 0.0053 - mae: 0.0779 - val_loss: 0.0135 - val_mae: 0.1222\n",
            "Epoch 56/200\n",
            "160/160 [==============================] - 4s 23ms/step - loss: 0.0053 - mae: 0.0780 - val_loss: 0.0135 - val_mae: 0.1221\n",
            "Epoch 57/200\n",
            "160/160 [==============================] - 4s 24ms/step - loss: 0.0053 - mae: 0.0780 - val_loss: 0.0134 - val_mae: 0.1220\n",
            "Epoch 58/200\n",
            "160/160 [==============================] - 4s 24ms/step - loss: 0.0053 - mae: 0.0778 - val_loss: 0.0134 - val_mae: 0.1219\n",
            "Epoch 59/200\n",
            "160/160 [==============================] - 4s 23ms/step - loss: 0.0053 - mae: 0.0778 - val_loss: 0.0134 - val_mae: 0.1218\n",
            "Epoch 60/200\n",
            "160/160 [==============================] - 4s 24ms/step - loss: 0.0053 - mae: 0.0776 - val_loss: 0.0134 - val_mae: 0.1218\n",
            "Epoch 61/200\n",
            "160/160 [==============================] - 4s 24ms/step - loss: 0.0053 - mae: 0.0778 - val_loss: 0.0134 - val_mae: 0.1217\n",
            "Epoch 62/200\n",
            "160/160 [==============================] - 4s 24ms/step - loss: 0.0053 - mae: 0.0776 - val_loss: 0.0134 - val_mae: 0.1217\n",
            "Epoch 63/200\n",
            "160/160 [==============================] - 4s 24ms/step - loss: 0.0053 - mae: 0.0779 - val_loss: 0.0134 - val_mae: 0.1216\n",
            "Epoch 64/200\n",
            "160/160 [==============================] - 4s 24ms/step - loss: 0.0053 - mae: 0.0775 - val_loss: 0.0133 - val_mae: 0.1216\n",
            "Epoch 65/200\n",
            "160/160 [==============================] - 4s 24ms/step - loss: 0.0053 - mae: 0.0776 - val_loss: 0.0133 - val_mae: 0.1215\n",
            "Epoch 66/200\n",
            "160/160 [==============================] - 4s 24ms/step - loss: 0.0053 - mae: 0.0777 - val_loss: 0.0133 - val_mae: 0.1215\n",
            "Epoch 67/200\n",
            "160/160 [==============================] - 4s 24ms/step - loss: 0.0053 - mae: 0.0776 - val_loss: 0.0133 - val_mae: 0.1214\n",
            "Epoch 68/200\n",
            "160/160 [==============================] - 4s 24ms/step - loss: 0.0052 - mae: 0.0775 - val_loss: 0.0133 - val_mae: 0.1213\n",
            "Epoch 69/200\n",
            "160/160 [==============================] - 4s 24ms/step - loss: 0.0052 - mae: 0.0774 - val_loss: 0.0133 - val_mae: 0.1212\n",
            "Epoch 70/200\n",
            "160/160 [==============================] - 4s 24ms/step - loss: 0.0052 - mae: 0.0776 - val_loss: 0.0133 - val_mae: 0.1212\n",
            "Epoch 71/200\n",
            "160/160 [==============================] - 4s 25ms/step - loss: 0.0053 - mae: 0.0775 - val_loss: 0.0133 - val_mae: 0.1212\n",
            "Epoch 72/200\n",
            "160/160 [==============================] - 5s 31ms/step - loss: 0.0052 - mae: 0.0774 - val_loss: 0.0132 - val_mae: 0.1211\n",
            "Epoch 73/200\n",
            "160/160 [==============================] - 4s 24ms/step - loss: 0.0052 - mae: 0.0774 - val_loss: 0.0132 - val_mae: 0.1210\n",
            "Epoch 74/200\n",
            "160/160 [==============================] - 4s 23ms/step - loss: 0.0053 - mae: 0.0776 - val_loss: 0.0132 - val_mae: 0.1210\n",
            "Epoch 75/200\n",
            "160/160 [==============================] - 4s 24ms/step - loss: 0.0052 - mae: 0.0773 - val_loss: 0.0132 - val_mae: 0.1209\n",
            "Epoch 76/200\n",
            "160/160 [==============================] - 4s 24ms/step - loss: 0.0052 - mae: 0.0774 - val_loss: 0.0132 - val_mae: 0.1209\n",
            "Epoch 77/200\n",
            "160/160 [==============================] - 4s 24ms/step - loss: 0.0052 - mae: 0.0773 - val_loss: 0.0132 - val_mae: 0.1208\n",
            "Epoch 78/200\n",
            "160/160 [==============================] - 4s 24ms/step - loss: 0.0052 - mae: 0.0771 - val_loss: 0.0131 - val_mae: 0.1207\n",
            "Epoch 79/200\n",
            "160/160 [==============================] - 4s 24ms/step - loss: 0.0052 - mae: 0.0773 - val_loss: 0.0131 - val_mae: 0.1207\n",
            "Epoch 80/200\n",
            "160/160 [==============================] - 4s 24ms/step - loss: 0.0052 - mae: 0.0770 - val_loss: 0.0131 - val_mae: 0.1207\n",
            "Epoch 81/200\n",
            "160/160 [==============================] - 4s 24ms/step - loss: 0.0052 - mae: 0.0773 - val_loss: 0.0131 - val_mae: 0.1206\n",
            "Epoch 82/200\n",
            "160/160 [==============================] - 4s 24ms/step - loss: 0.0052 - mae: 0.0771 - val_loss: 0.0131 - val_mae: 0.1205\n",
            "Epoch 83/200\n",
            "160/160 [==============================] - 4s 24ms/step - loss: 0.0052 - mae: 0.0772 - val_loss: 0.0131 - val_mae: 0.1205\n",
            "Epoch 84/200\n",
            "160/160 [==============================] - 4s 24ms/step - loss: 0.0052 - mae: 0.0771 - val_loss: 0.0131 - val_mae: 0.1204\n",
            "Epoch 85/200\n",
            "160/160 [==============================] - 4s 24ms/step - loss: 0.0052 - mae: 0.0771 - val_loss: 0.0131 - val_mae: 0.1203\n",
            "Epoch 86/200\n",
            "160/160 [==============================] - 4s 23ms/step - loss: 0.0052 - mae: 0.0771 - val_loss: 0.0130 - val_mae: 0.1202\n",
            "Epoch 87/200\n",
            "160/160 [==============================] - 4s 24ms/step - loss: 0.0051 - mae: 0.0768 - val_loss: 0.0130 - val_mae: 0.1201\n",
            "Epoch 88/200\n",
            "160/160 [==============================] - 4s 24ms/step - loss: 0.0052 - mae: 0.0768 - val_loss: 0.0130 - val_mae: 0.1199\n",
            "Epoch 89/200\n",
            "160/160 [==============================] - 4s 24ms/step - loss: 0.0051 - mae: 0.0768 - val_loss: 0.0130 - val_mae: 0.1198\n",
            "Epoch 90/200\n",
            "160/160 [==============================] - 4s 24ms/step - loss: 0.0051 - mae: 0.0766 - val_loss: 0.0129 - val_mae: 0.1197\n",
            "Epoch 91/200\n",
            "160/160 [==============================] - 4s 23ms/step - loss: 0.0051 - mae: 0.0766 - val_loss: 0.0129 - val_mae: 0.1197\n",
            "Epoch 92/200\n",
            "160/160 [==============================] - 4s 23ms/step - loss: 0.0051 - mae: 0.0765 - val_loss: 0.0129 - val_mae: 0.1195\n",
            "Epoch 93/200\n",
            "160/160 [==============================] - 4s 24ms/step - loss: 0.0051 - mae: 0.0767 - val_loss: 0.0129 - val_mae: 0.1194\n",
            "Epoch 94/200\n",
            "160/160 [==============================] - 4s 23ms/step - loss: 0.0051 - mae: 0.0766 - val_loss: 0.0129 - val_mae: 0.1194\n",
            "Epoch 95/200\n",
            "160/160 [==============================] - 4s 24ms/step - loss: 0.0051 - mae: 0.0766 - val_loss: 0.0128 - val_mae: 0.1192\n",
            "Epoch 96/200\n",
            "160/160 [==============================] - 4s 24ms/step - loss: 0.0051 - mae: 0.0765 - val_loss: 0.0128 - val_mae: 0.1192\n",
            "Epoch 97/200\n",
            "160/160 [==============================] - 4s 24ms/step - loss: 0.0051 - mae: 0.0765 - val_loss: 0.0128 - val_mae: 0.1191\n",
            "Epoch 98/200\n",
            "160/160 [==============================] - 4s 24ms/step - loss: 0.0051 - mae: 0.0764 - val_loss: 0.0128 - val_mae: 0.1190\n",
            "Epoch 99/200\n",
            "160/160 [==============================] - 4s 24ms/step - loss: 0.0051 - mae: 0.0762 - val_loss: 0.0128 - val_mae: 0.1189\n",
            "Epoch 100/200\n",
            "160/160 [==============================] - 4s 24ms/step - loss: 0.0051 - mae: 0.0764 - val_loss: 0.0128 - val_mae: 0.1189\n",
            "Epoch 101/200\n",
            "160/160 [==============================] - 4s 24ms/step - loss: 0.0051 - mae: 0.0765 - val_loss: 0.0127 - val_mae: 0.1188\n",
            "Epoch 102/200\n",
            "160/160 [==============================] - 4s 25ms/step - loss: 0.0051 - mae: 0.0764 - val_loss: 0.0127 - val_mae: 0.1187\n",
            "Epoch 103/200\n",
            "160/160 [==============================] - 4s 24ms/step - loss: 0.0051 - mae: 0.0764 - val_loss: 0.0127 - val_mae: 0.1187\n",
            "Epoch 104/200\n",
            "160/160 [==============================] - 4s 23ms/step - loss: 0.0051 - mae: 0.0764 - val_loss: 0.0127 - val_mae: 0.1186\n",
            "Epoch 105/200\n",
            "160/160 [==============================] - 4s 24ms/step - loss: 0.0050 - mae: 0.0762 - val_loss: 0.0127 - val_mae: 0.1185\n",
            "Epoch 106/200\n",
            "160/160 [==============================] - 4s 24ms/step - loss: 0.0051 - mae: 0.0765 - val_loss: 0.0127 - val_mae: 0.1185\n",
            "Epoch 107/200\n",
            "160/160 [==============================] - 4s 23ms/step - loss: 0.0051 - mae: 0.0763 - val_loss: 0.0127 - val_mae: 0.1184\n",
            "Epoch 108/200\n",
            "160/160 [==============================] - 4s 23ms/step - loss: 0.0051 - mae: 0.0764 - val_loss: 0.0127 - val_mae: 0.1184\n",
            "Epoch 109/200\n",
            "160/160 [==============================] - 4s 24ms/step - loss: 0.0051 - mae: 0.0764 - val_loss: 0.0126 - val_mae: 0.1183\n",
            "Epoch 110/200\n",
            "160/160 [==============================] - 4s 23ms/step - loss: 0.0051 - mae: 0.0763 - val_loss: 0.0126 - val_mae: 0.1183\n",
            "Epoch 111/200\n",
            "160/160 [==============================] - 4s 23ms/step - loss: 0.0051 - mae: 0.0762 - val_loss: 0.0126 - val_mae: 0.1183\n",
            "Epoch 112/200\n",
            "160/160 [==============================] - 4s 24ms/step - loss: 0.0051 - mae: 0.0762 - val_loss: 0.0126 - val_mae: 0.1182\n",
            "Epoch 113/200\n",
            "160/160 [==============================] - 4s 23ms/step - loss: 0.0051 - mae: 0.0762 - val_loss: 0.0126 - val_mae: 0.1182\n",
            "Epoch 114/200\n",
            "160/160 [==============================] - 4s 24ms/step - loss: 0.0051 - mae: 0.0762 - val_loss: 0.0126 - val_mae: 0.1182\n",
            "Epoch 115/200\n",
            "160/160 [==============================] - 4s 24ms/step - loss: 0.0051 - mae: 0.0762 - val_loss: 0.0126 - val_mae: 0.1181\n",
            "Epoch 116/200\n",
            "160/160 [==============================] - 4s 24ms/step - loss: 0.0051 - mae: 0.0762 - val_loss: 0.0126 - val_mae: 0.1180\n",
            "Epoch 117/200\n",
            "160/160 [==============================] - 4s 24ms/step - loss: 0.0051 - mae: 0.0763 - val_loss: 0.0126 - val_mae: 0.1180\n",
            "Epoch 118/200\n",
            "160/160 [==============================] - 4s 24ms/step - loss: 0.0050 - mae: 0.0760 - val_loss: 0.0125 - val_mae: 0.1179\n",
            "Epoch 119/200\n",
            "160/160 [==============================] - 4s 24ms/step - loss: 0.0051 - mae: 0.0761 - val_loss: 0.0125 - val_mae: 0.1178\n",
            "Epoch 120/200\n",
            "160/160 [==============================] - 5s 30ms/step - loss: 0.0051 - mae: 0.0762 - val_loss: 0.0125 - val_mae: 0.1178\n",
            "Epoch 121/200\n",
            "160/160 [==============================] - 4s 23ms/step - loss: 0.0050 - mae: 0.0762 - val_loss: 0.0125 - val_mae: 0.1178\n",
            "Epoch 122/200\n",
            "160/160 [==============================] - 4s 23ms/step - loss: 0.0051 - mae: 0.0762 - val_loss: 0.0125 - val_mae: 0.1178\n",
            "Epoch 123/200\n",
            "160/160 [==============================] - 4s 24ms/step - loss: 0.0050 - mae: 0.0762 - val_loss: 0.0125 - val_mae: 0.1177\n",
            "Epoch 124/200\n",
            "160/160 [==============================] - 4s 23ms/step - loss: 0.0050 - mae: 0.0761 - val_loss: 0.0125 - val_mae: 0.1177\n",
            "Epoch 125/200\n",
            "160/160 [==============================] - 4s 23ms/step - loss: 0.0050 - mae: 0.0761 - val_loss: 0.0125 - val_mae: 0.1176\n",
            "Epoch 126/200\n",
            "160/160 [==============================] - 4s 23ms/step - loss: 0.0050 - mae: 0.0760 - val_loss: 0.0125 - val_mae: 0.1176\n",
            "Epoch 127/200\n",
            "160/160 [==============================] - 4s 24ms/step - loss: 0.0050 - mae: 0.0760 - val_loss: 0.0125 - val_mae: 0.1175\n",
            "Epoch 128/200\n",
            "160/160 [==============================] - 4s 24ms/step - loss: 0.0050 - mae: 0.0761 - val_loss: 0.0125 - val_mae: 0.1174\n",
            "Epoch 129/200\n",
            "160/160 [==============================] - 4s 24ms/step - loss: 0.0050 - mae: 0.0760 - val_loss: 0.0124 - val_mae: 0.1174\n",
            "Epoch 130/200\n",
            "160/160 [==============================] - 4s 24ms/step - loss: 0.0050 - mae: 0.0761 - val_loss: 0.0124 - val_mae: 0.1174\n",
            "Epoch 131/200\n",
            "160/160 [==============================] - 4s 24ms/step - loss: 0.0050 - mae: 0.0761 - val_loss: 0.0124 - val_mae: 0.1173\n",
            "Epoch 132/200\n",
            "160/160 [==============================] - 4s 23ms/step - loss: 0.0050 - mae: 0.0761 - val_loss: 0.0124 - val_mae: 0.1173\n",
            "Epoch 133/200\n",
            "160/160 [==============================] - 4s 24ms/step - loss: 0.0050 - mae: 0.0760 - val_loss: 0.0124 - val_mae: 0.1173\n",
            "Epoch 134/200\n",
            "160/160 [==============================] - 6s 35ms/step - loss: 0.0050 - mae: 0.0760 - val_loss: 0.0124 - val_mae: 0.1172\n",
            "Epoch 135/200\n",
            "160/160 [==============================] - 4s 24ms/step - loss: 0.0050 - mae: 0.0759 - val_loss: 0.0124 - val_mae: 0.1172\n",
            "Epoch 136/200\n",
            "160/160 [==============================] - 4s 24ms/step - loss: 0.0050 - mae: 0.0759 - val_loss: 0.0124 - val_mae: 0.1171\n",
            "Epoch 137/200\n",
            "160/160 [==============================] - 4s 23ms/step - loss: 0.0050 - mae: 0.0760 - val_loss: 0.0124 - val_mae: 0.1171\n",
            "Epoch 138/200\n",
            "160/160 [==============================] - 4s 24ms/step - loss: 0.0050 - mae: 0.0758 - val_loss: 0.0124 - val_mae: 0.1170\n",
            "Epoch 139/200\n",
            "160/160 [==============================] - 4s 24ms/step - loss: 0.0050 - mae: 0.0759 - val_loss: 0.0123 - val_mae: 0.1169\n",
            "Epoch 140/200\n",
            "160/160 [==============================] - 4s 24ms/step - loss: 0.0050 - mae: 0.0759 - val_loss: 0.0123 - val_mae: 0.1169\n",
            "Epoch 141/200\n",
            "160/160 [==============================] - 4s 24ms/step - loss: 0.0050 - mae: 0.0759 - val_loss: 0.0123 - val_mae: 0.1169\n",
            "Epoch 142/200\n",
            "160/160 [==============================] - 4s 24ms/step - loss: 0.0050 - mae: 0.0758 - val_loss: 0.0123 - val_mae: 0.1169\n",
            "Epoch 143/200\n",
            "160/160 [==============================] - 4s 23ms/step - loss: 0.0050 - mae: 0.0758 - val_loss: 0.0123 - val_mae: 0.1168\n",
            "Epoch 144/200\n",
            "160/160 [==============================] - 4s 23ms/step - loss: 0.0050 - mae: 0.0757 - val_loss: 0.0123 - val_mae: 0.1167\n",
            "Epoch 145/200\n",
            "160/160 [==============================] - 4s 24ms/step - loss: 0.0050 - mae: 0.0757 - val_loss: 0.0123 - val_mae: 0.1167\n",
            "Epoch 146/200\n",
            "160/160 [==============================] - 4s 23ms/step - loss: 0.0050 - mae: 0.0758 - val_loss: 0.0123 - val_mae: 0.1167\n",
            "Epoch 147/200\n",
            "160/160 [==============================] - 4s 24ms/step - loss: 0.0050 - mae: 0.0758 - val_loss: 0.0123 - val_mae: 0.1167\n",
            "Epoch 148/200\n",
            "160/160 [==============================] - 4s 24ms/step - loss: 0.0050 - mae: 0.0757 - val_loss: 0.0123 - val_mae: 0.1167\n",
            "Epoch 149/200\n",
            "160/160 [==============================] - 4s 23ms/step - loss: 0.0050 - mae: 0.0757 - val_loss: 0.0123 - val_mae: 0.1166\n",
            "Epoch 150/200\n",
            "160/160 [==============================] - 4s 24ms/step - loss: 0.0050 - mae: 0.0756 - val_loss: 0.0123 - val_mae: 0.1166\n",
            "Epoch 151/200\n",
            "160/160 [==============================] - 4s 23ms/step - loss: 0.0050 - mae: 0.0757 - val_loss: 0.0123 - val_mae: 0.1165\n",
            "Epoch 152/200\n",
            "160/160 [==============================] - 4s 24ms/step - loss: 0.0050 - mae: 0.0755 - val_loss: 0.0122 - val_mae: 0.1165\n",
            "Epoch 153/200\n",
            "160/160 [==============================] - 4s 24ms/step - loss: 0.0050 - mae: 0.0757 - val_loss: 0.0122 - val_mae: 0.1164\n",
            "Epoch 154/200\n",
            "160/160 [==============================] - 4s 25ms/step - loss: 0.0050 - mae: 0.0757 - val_loss: 0.0122 - val_mae: 0.1164\n",
            "Epoch 155/200\n",
            "160/160 [==============================] - 4s 24ms/step - loss: 0.0050 - mae: 0.0757 - val_loss: 0.0122 - val_mae: 0.1164\n",
            "Epoch 156/200\n",
            "160/160 [==============================] - 4s 24ms/step - loss: 0.0050 - mae: 0.0757 - val_loss: 0.0122 - val_mae: 0.1163\n",
            "Epoch 157/200\n",
            "160/160 [==============================] - 4s 24ms/step - loss: 0.0050 - mae: 0.0755 - val_loss: 0.0122 - val_mae: 0.1163\n",
            "Epoch 158/200\n",
            "160/160 [==============================] - 4s 23ms/step - loss: 0.0050 - mae: 0.0755 - val_loss: 0.0122 - val_mae: 0.1162\n",
            "Epoch 159/200\n",
            "160/160 [==============================] - 4s 23ms/step - loss: 0.0050 - mae: 0.0756 - val_loss: 0.0122 - val_mae: 0.1162\n",
            "Epoch 160/200\n",
            "160/160 [==============================] - 4s 24ms/step - loss: 0.0050 - mae: 0.0757 - val_loss: 0.0122 - val_mae: 0.1162\n",
            "Epoch 161/200\n",
            "160/160 [==============================] - 4s 24ms/step - loss: 0.0049 - mae: 0.0754 - val_loss: 0.0122 - val_mae: 0.1161\n",
            "Epoch 162/200\n",
            "160/160 [==============================] - 4s 24ms/step - loss: 0.0050 - mae: 0.0754 - val_loss: 0.0122 - val_mae: 0.1161\n",
            "Epoch 163/200\n",
            "160/160 [==============================] - 4s 24ms/step - loss: 0.0049 - mae: 0.0754 - val_loss: 0.0122 - val_mae: 0.1161\n",
            "Epoch 164/200\n",
            "160/160 [==============================] - 4s 24ms/step - loss: 0.0049 - mae: 0.0753 - val_loss: 0.0122 - val_mae: 0.1160\n",
            "Epoch 165/200\n",
            "160/160 [==============================] - 4s 24ms/step - loss: 0.0050 - mae: 0.0757 - val_loss: 0.0122 - val_mae: 0.1160\n",
            "Epoch 166/200\n",
            "160/160 [==============================] - 4s 24ms/step - loss: 0.0050 - mae: 0.0756 - val_loss: 0.0121 - val_mae: 0.1160\n",
            "Epoch 167/200\n",
            "160/160 [==============================] - 4s 24ms/step - loss: 0.0049 - mae: 0.0753 - val_loss: 0.0121 - val_mae: 0.1159\n",
            "Epoch 168/200\n",
            "160/160 [==============================] - 4s 24ms/step - loss: 0.0049 - mae: 0.0752 - val_loss: 0.0121 - val_mae: 0.1158\n",
            "Epoch 169/200\n",
            "160/160 [==============================] - 4s 24ms/step - loss: 0.0049 - mae: 0.0753 - val_loss: 0.0121 - val_mae: 0.1158\n",
            "Epoch 170/200\n",
            "160/160 [==============================] - 4s 24ms/step - loss: 0.0050 - mae: 0.0756 - val_loss: 0.0121 - val_mae: 0.1158\n",
            "Epoch 171/200\n",
            "160/160 [==============================] - 4s 23ms/step - loss: 0.0050 - mae: 0.0754 - val_loss: 0.0121 - val_mae: 0.1158\n",
            "Epoch 172/200\n",
            "160/160 [==============================] - 4s 24ms/step - loss: 0.0049 - mae: 0.0753 - val_loss: 0.0121 - val_mae: 0.1157\n",
            "Epoch 173/200\n",
            "160/160 [==============================] - 4s 24ms/step - loss: 0.0049 - mae: 0.0753 - val_loss: 0.0121 - val_mae: 0.1156\n",
            "Epoch 174/200\n",
            "160/160 [==============================] - 4s 24ms/step - loss: 0.0050 - mae: 0.0756 - val_loss: 0.0121 - val_mae: 0.1156\n",
            "Epoch 175/200\n",
            "160/160 [==============================] - 4s 24ms/step - loss: 0.0049 - mae: 0.0753 - val_loss: 0.0121 - val_mae: 0.1156\n",
            "Epoch 176/200\n",
            "160/160 [==============================] - 4s 24ms/step - loss: 0.0049 - mae: 0.0753 - val_loss: 0.0121 - val_mae: 0.1156\n",
            "Epoch 177/200\n",
            "160/160 [==============================] - 4s 24ms/step - loss: 0.0049 - mae: 0.0753 - val_loss: 0.0121 - val_mae: 0.1155\n",
            "Epoch 178/200\n",
            "160/160 [==============================] - 4s 24ms/step - loss: 0.0049 - mae: 0.0753 - val_loss: 0.0120 - val_mae: 0.1155\n",
            "Epoch 179/200\n",
            "160/160 [==============================] - 4s 23ms/step - loss: 0.0049 - mae: 0.0755 - val_loss: 0.0120 - val_mae: 0.1154\n",
            "Epoch 180/200\n",
            "160/160 [==============================] - 4s 24ms/step - loss: 0.0049 - mae: 0.0755 - val_loss: 0.0120 - val_mae: 0.1154\n",
            "Epoch 181/200\n",
            "160/160 [==============================] - 4s 24ms/step - loss: 0.0049 - mae: 0.0752 - val_loss: 0.0120 - val_mae: 0.1154\n",
            "Epoch 182/200\n",
            "160/160 [==============================] - 4s 23ms/step - loss: 0.0049 - mae: 0.0753 - val_loss: 0.0120 - val_mae: 0.1153\n",
            "Epoch 183/200\n",
            "160/160 [==============================] - 4s 24ms/step - loss: 0.0049 - mae: 0.0754 - val_loss: 0.0120 - val_mae: 0.1153\n",
            "Epoch 184/200\n",
            "160/160 [==============================] - 4s 24ms/step - loss: 0.0049 - mae: 0.0751 - val_loss: 0.0120 - val_mae: 0.1152\n",
            "Epoch 185/200\n",
            "160/160 [==============================] - 4s 23ms/step - loss: 0.0049 - mae: 0.0752 - val_loss: 0.0120 - val_mae: 0.1152\n",
            "Epoch 186/200\n",
            "160/160 [==============================] - 4s 24ms/step - loss: 0.0049 - mae: 0.0752 - val_loss: 0.0120 - val_mae: 0.1152\n",
            "Epoch 187/200\n",
            "160/160 [==============================] - 4s 25ms/step - loss: 0.0049 - mae: 0.0751 - val_loss: 0.0120 - val_mae: 0.1152\n",
            "Epoch 188/200\n",
            "160/160 [==============================] - 4s 23ms/step - loss: 0.0049 - mae: 0.0751 - val_loss: 0.0120 - val_mae: 0.1151\n",
            "Epoch 189/200\n",
            "160/160 [==============================] - 4s 24ms/step - loss: 0.0049 - mae: 0.0752 - val_loss: 0.0120 - val_mae: 0.1150\n",
            "Epoch 190/200\n",
            "160/160 [==============================] - 4s 24ms/step - loss: 0.0049 - mae: 0.0750 - val_loss: 0.0119 - val_mae: 0.1150\n",
            "Epoch 191/200\n",
            "160/160 [==============================] - 4s 23ms/step - loss: 0.0049 - mae: 0.0753 - val_loss: 0.0119 - val_mae: 0.1150\n",
            "Epoch 192/200\n",
            "160/160 [==============================] - 4s 24ms/step - loss: 0.0049 - mae: 0.0750 - val_loss: 0.0119 - val_mae: 0.1150\n",
            "Epoch 193/200\n",
            "160/160 [==============================] - 4s 25ms/step - loss: 0.0049 - mae: 0.0751 - val_loss: 0.0119 - val_mae: 0.1149\n",
            "Epoch 194/200\n",
            "160/160 [==============================] - 4s 23ms/step - loss: 0.0049 - mae: 0.0753 - val_loss: 0.0119 - val_mae: 0.1149\n",
            "Epoch 195/200\n",
            "160/160 [==============================] - 5s 28ms/step - loss: 0.0049 - mae: 0.0750 - val_loss: 0.0119 - val_mae: 0.1149\n",
            "Epoch 196/200\n",
            "160/160 [==============================] - 5s 31ms/step - loss: 0.0049 - mae: 0.0750 - val_loss: 0.0119 - val_mae: 0.1148\n",
            "Epoch 197/200\n",
            "160/160 [==============================] - 4s 24ms/step - loss: 0.0049 - mae: 0.0749 - val_loss: 0.0119 - val_mae: 0.1147\n",
            "Epoch 198/200\n",
            "160/160 [==============================] - 4s 24ms/step - loss: 0.0049 - mae: 0.0749 - val_loss: 0.0119 - val_mae: 0.1147\n",
            "Epoch 199/200\n",
            "160/160 [==============================] - 4s 25ms/step - loss: 0.0049 - mae: 0.0748 - val_loss: 0.0119 - val_mae: 0.1145\n",
            "Epoch 200/200\n",
            "160/160 [==============================] - 4s 24ms/step - loss: 0.0048 - mae: 0.0746 - val_loss: 0.0118 - val_mae: 0.1144\n"
          ]
        }
      ],
      "source": [
        "optimizer = tf.keras.optimizers.SGD(learning_rate=1.0000e-04, momentum=0.9)\n",
        "model.compile(loss=tf.keras.losses.Huber(),\n",
        "              optimizer=optimizer,\n",
        "              metrics=[\"mae\"])\n",
        "history = model.fit(train_set,\n",
        "                    epochs=200,\n",
        "                    callbacks=[callbacks],\n",
        "                    validation_data=test_set)"
      ]
    },
    {
      "cell_type": "code",
      "execution_count": 21,
      "metadata": {
        "colab": {
          "base_uri": "https://localhost:8080/"
        },
        "id": "4-Ebzix4Maso",
        "outputId": "83ad2757-242b-4178-a4e7-f5c109d0215c",
        "scrolled": true
      },
      "outputs": [
        {
          "output_type": "stream",
          "name": "stdout",
          "text": [
            "40/40 [==============================] - 1s 13ms/step - loss: 0.0118 - mae: 0.1144\n"
          ]
        },
        {
          "output_type": "execute_result",
          "data": {
            "text/plain": [
              "[0.011840416118502617, 0.11441861838102341]"
            ]
          },
          "metadata": {},
          "execution_count": 21
        }
      ],
      "source": [
        "model.evaluate(test_set)"
      ]
    },
    {
      "cell_type": "code",
      "execution_count": 22,
      "metadata": {
        "colab": {
          "base_uri": "https://localhost:8080/",
          "height": 295
        },
        "id": "6YFlkrq4Zq3F",
        "outputId": "7c0b3ae0-7c8d-443f-d3dc-ffa955a2edf4"
      },
      "outputs": [
        {
          "output_type": "display_data",
          "data": {
            "text/plain": [
              "<Figure size 432x288 with 1 Axes>"
            ],
            "image/png": "[encoded data removed]"
          },
          "metadata": {
            "needs_background": "light"
          }
        }
      ],
      "source": [
        "import matplotlib.pyplot as plt\n",
        "plt.plot(history.history['loss'])\n",
        "plt.title('Model loss')\n",
        "plt.ylabel('Loss')\n",
        "plt.xlabel('Epoch')\n",
        "plt.legend(['Train'], loc='upper right')\n",
        "plt.show()"
      ]
    },
    {
      "cell_type": "code",
      "execution_count": 23,
      "metadata": {
        "colab": {
          "base_uri": "https://localhost:8080/",
          "height": 295
        },
        "id": "uonrnobiNORH",
        "outputId": "a7f71a99-5d2b-41f6-a981-0eaf6f43d0f5"
      },
      "outputs": [
        {
          "output_type": "display_data",
          "data": {
            "text/plain": [
              "<Figure size 432x288 with 1 Axes>"
            ],
            "image/png": "[encoded data removed]"
          },
          "metadata": {
            "needs_background": "light"
          }
        }
      ],
      "source": [
        "plt.plot(history.history['mae'])\n",
        "plt.title('Model accuracy')\n",
        "plt.ylabel('MAE')\n",
        "plt.xlabel('Epoch')\n",
        "plt.legend(['Train'], loc='lower right')\n",
        "plt.show()"
      ]
    }
  ],
  "metadata": {
    "colab": {
      "provenance": []
    },
    "kernelspec": {
      "display_name": "Python 3",
      "language": "python",
      "name": "python3"
    },
    "language_info": {
      "codemirror_mode": {
        "name": "ipython",
        "version": 3
      },
      "file_extension": ".py",
      "mimetype": "text/x-python",
      "name": "python",
      "nbconvert_exporter": "python",
      "pygments_lexer": "ipython3",
      "version": "3.8.5"
    },
    "accelerator": "GPU",
    "gpuClass": "standard"
  },
  "nbformat": 4,
  "nbformat_minor": 0
}